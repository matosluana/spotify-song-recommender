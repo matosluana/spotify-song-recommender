{
 "cells": [
  {
   "cell_type": "code",
   "execution_count": 15,
   "id": "794c9387",
   "metadata": {},
   "outputs": [],
   "source": [
    "import streamlit as st\n",
    "import pandas as pd\n",
    "import numpy as np\n",
    "\n",
    "from time import sleep\n",
    "import random\n",
    "from time import sleep\n",
    "from random import randint\n",
    "import spotipy\n",
    "import joblib\n",
    "import joblib\n",
    "\n",
    "from spotipy.oauth2 import SpotifyClientCredentials"
   ]
  },
  {
   "cell_type": "code",
   "execution_count": 11,
   "id": "c7671437",
   "metadata": {},
   "outputs": [],
   "source": [
    "hot_songs = pd.read_csv(r'C:\\Users\\luana\\github\\spotify-song-recommender\\csv_files\\hot_songs.csv')\n",
    "songs_clustered = pd.read_csv(r'C:\\Users\\luana\\github\\spotify-song-recommender\\csv_files\\songs_clustered.csv')"
   ]
  },
  {
   "cell_type": "code",
   "execution_count": 14,
   "id": "6af8e708",
   "metadata": {},
   "outputs": [
    {
     "name": "stderr",
     "output_type": "stream",
     "text": [
      "C:\\Users\\luana\\anaconda3\\lib\\site-packages\\sklearn\\base.py:329: UserWarning: Trying to unpickle estimator StandardScaler from version 1.1.2 when using version 1.1.3. This might lead to breaking code or invalid results. Use at your own risk. For more info please refer to:\n",
      "https://scikit-learn.org/stable/model_persistence.html#security-maintainability-limitations\n",
      "  warnings.warn(\n",
      "C:\\Users\\luana\\anaconda3\\lib\\site-packages\\sklearn\\base.py:329: UserWarning: Trying to unpickle estimator KMeans from version 1.1.2 when using version 1.1.3. This might lead to breaking code or invalid results. Use at your own risk. For more info please refer to:\n",
      "https://scikit-learn.org/stable/model_persistence.html#security-maintainability-limitations\n",
      "  warnings.warn(\n"
     ]
    }
   ],
   "source": [
    "scaler = joblib.load('scaler.save')\n",
    "model = joblib.load('model.save')"
   ]
  },
  {
   "cell_type": "code",
   "execution_count": 16,
   "id": "0581ba12",
   "metadata": {},
   "outputs": [],
   "source": [
    "# Function to get input and find spotify info\n",
    "def song_inf(song_id):\n",
    "    song_df = pd.DataFrame(columns=['danceability','energy','key','loudness','mode',\n",
    "                                    'speechiness','acousticness','instrumentalness','liveness','valence','tempo',\n",
    "                                    'type','id','uri','track_href','analysis_url','duration_ms','time_signature'])\n",
    "\n",
    "    features_dict = sp.audio_features(song_id)\n",
    "    song_df = pd.DataFrame(features_dict)\n",
    "    song_df = song_df.select_dtypes(np.number)\n",
    "   \n",
    "    return song_df"
   ]
  },
  {
   "cell_type": "code",
   "execution_count": 17,
   "id": "03dad050",
   "metadata": {},
   "outputs": [],
   "source": [
    "def song_recommender():\n",
    "    user_song = str(input('Please enter the name of a song you like\\n')).lower()\n",
    "    results = sp.search(q=user_song, type='track', limit=10)\n",
    "    answer = ''\n",
    "    n = 0\n",
    "    \n",
    "    try:        \n",
    "        while answer != 'y' and n<=10:\n",
    "            message = ('Did you mean '+results[\"tracks\"][\"items\"][n][\"name\"]+' by '\n",
    "                       +results[\"tracks\"][\"items\"][n][\"artists\"][0][\"name\"]+'?\\n'+'Type y for yes or n for No\\n')\n",
    "            song_id = results[\"tracks\"][\"items\"][n][\"id\"]\n",
    "            answer = str(input(message).lower()[:1])\n",
    "            n = n+1\n",
    "    except:\n",
    "        pass\n",
    "\n",
    "    if answer == 'n':       \n",
    "        print('Sorry, we cannot find your song. Please try another one.')\n",
    "\n",
    "    elif answer == 'y':\n",
    "        if song_id in hot_songs['id'].tolist():\n",
    "            i = random.randint(0,len(hot_songs))\n",
    "            print('You may also like',hot_songs['song'][i].title(), \"by\",hot_songs['artist'][i].title())\n",
    "\n",
    "        else:\n",
    "            song_df = song_inf(song_id)\n",
    "            cluster=model.predict(pd.DataFrame(scaler.transform(song_df), columns=song_df.columns))\n",
    "            cluster = cluster[0]\n",
    "            cluster_df = songs_clustered[songs_clustered['cluster']==cluster].reset_index(drop=True)\n",
    "            i = random.randint(0,len(cluster_df))\n",
    "            cluster_df['song'][i]\n",
    "            suggestion = 'We think you may also like '+cluster_df['song'][i]+' by '+cluster_df['artist'][i]\n",
    "            print(suggestion)\n",
    "\n",
    "    else:\n",
    "        print('Invalid answer. Please start again')"
   ]
  },
  {
   "cell_type": "code",
   "execution_count": 19,
   "id": "39eed322",
   "metadata": {},
   "outputs": [
    {
     "ename": "SyntaxError",
     "evalue": "invalid syntax (725206378.py, line 1)",
     "output_type": "error",
     "traceback": [
      "\u001b[1;36m  Input \u001b[1;32mIn [19]\u001b[1;36m\u001b[0m\n\u001b[1;33m    st run your_script.py\u001b[0m\n\u001b[1;37m       ^\u001b[0m\n\u001b[1;31mSyntaxError\u001b[0m\u001b[1;31m:\u001b[0m invalid syntax\n"
     ]
    }
   ],
   "source": [
    "st run your_script.py"
   ]
  }
 ],
 "metadata": {
  "kernelspec": {
   "display_name": "Python 3 (ipykernel)",
   "language": "python",
   "name": "python3"
  },
  "language_info": {
   "codemirror_mode": {
    "name": "ipython",
    "version": 3
   },
   "file_extension": ".py",
   "mimetype": "text/x-python",
   "name": "python",
   "nbconvert_exporter": "python",
   "pygments_lexer": "ipython3",
   "version": "3.9.12"
  }
 },
 "nbformat": 4,
 "nbformat_minor": 5
}
